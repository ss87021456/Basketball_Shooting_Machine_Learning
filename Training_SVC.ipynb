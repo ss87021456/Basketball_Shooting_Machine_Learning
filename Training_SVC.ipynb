{
 "cells": [
  {
   "cell_type": "code",
   "execution_count": 1,
   "metadata": {},
   "outputs": [],
   "source": [
    "%matplotlib inline\n",
    "import os, csv, sys\n",
    "import os.path\n",
    "from sklearn.decomposition import PCA\n",
    "import numpy as np\n",
    "import pandas as pd\n",
    "import matplotlib\n",
    "import matplotlib.pyplot as plt\n",
    "import matplotlib.cm as cm\n",
    "import matplotlib.mlab as mlab\n",
    "from sklearn.preprocessing import StandardScaler"
   ]
  },
  {
   "cell_type": "code",
   "execution_count": 2,
   "metadata": {},
   "outputs": [],
   "source": [
    "features = np.zeros((3200,120))\n",
    "labels = np.zeros((3200,1))\n",
    "\n",
    "filepath_1 = 'Features.csv'\n",
    "f_1 = open(filepath_1, \"r\")\n",
    "\n",
    "filepath_2 = 'Labels.csv'\n",
    "f_2 = open(filepath_2, \"r\")\n",
    "\n",
    "\n",
    "count = 0    #row number\n",
    "\n",
    "for row in f_1:\n",
    "    handle = row.split(',')\n",
    "    for i in range(120):\n",
    "        features[count][i] = float(handle[i])\n",
    "    count = count+1\n",
    "\n",
    "    \n",
    "count = 0\n",
    "for row in f_2:\n",
    "    #handle = row.split\n",
    "    labels[count] = float(row)\n",
    "    count = count+1 \n",
    "    \n",
    "#print labels.shape\n",
    "#print features.shape"
   ]
  },
  {
   "cell_type": "code",
   "execution_count": 3,
   "metadata": {},
   "outputs": [],
   "source": [
    "scaler = StandardScaler()\n",
    "scaler.fit(features)\n",
    "features = scaler.transform(features)"
   ]
  },
  {
   "cell_type": "code",
   "execution_count": 4,
   "metadata": {},
   "outputs": [],
   "source": [
    "from sklearn.svm import SVC\n",
    "def unison_shuffled_copies(a, b):\n",
    "    assert len(a) == len(b)\n",
    "    p = np.random.permutation(len(a))\n",
    "    return a[p], b[p]\n",
    "\n",
    "from sklearn.model_selection import train_test_split\n",
    "from sklearn.model_selection import cross_val_score"
   ]
  },
  {
   "cell_type": "code",
   "execution_count": 5,
   "metadata": {
    "scrolled": false
   },
   "outputs": [],
   "source": [
    "n_components = 5\n",
    "pca = PCA(n_components=n_components, svd_solver='randomized', whiten=True).fit(features)"
   ]
  },
  {
   "cell_type": "code",
   "execution_count": 6,
   "metadata": {
    "scrolled": false
   },
   "outputs": [
    {
     "name": "stderr",
     "output_type": "stream",
     "text": [
      "/usr/local/lib/python2.7/site-packages/sklearn/utils/validation.py:526: DataConversionWarning: A column-vector y was passed when a 1d array was expected. Please change the shape of y to (n_samples, ), for example using ravel().\n",
      "  y = column_or_1d(y, warn=True)\n"
     ]
    },
    {
     "name": "stdout",
     "output_type": "stream",
     "text": [
      "rbf acc: 0.88\n",
      "rbf acc: 0.86\n",
      "rbf acc: 0.9\n",
      "rbf acc: 0.87\n",
      "rbf acc: 0.89\n",
      "Average accuracy of SVC: 88.0 %\n"
     ]
    }
   ],
   "source": [
    "\n",
    "acc = 0.0\n",
    "#features, labels = unison_shuffled_copies(features, labels)\n",
    "#labels = labels.reshape([-1])\n",
    "#X_train, X_test, y_train, y_test = train_test_split(features, labels, test_size=0.1, random_state=0)\n",
    "#\n",
    "#clf = SVC(kernel='rbf')\n",
    "#scores = cross_val_score(clf, features, labels, cv=5)\n",
    "#print scores\n",
    "\n",
    "test_time = 5\n",
    "for i in range(test_time):\n",
    "    features, labels = unison_shuffled_copies(features, labels)\n",
    "    \n",
    "    train_X = features\n",
    "    train_y = labels\n",
    "    test_X = features[-100:]\n",
    "    test_y = labels[-100:]\n",
    "    \n",
    "    # Ready for SVM training\n",
    "    \n",
    "    n_components = 5\n",
    "    pca = PCA(n_components=n_components, svd_solver='randomized', whiten=True).fit(train_X)\n",
    "    \n",
    "    ### PCA\n",
    "    #mean = np.mean(features, axis = 0)\n",
    "    #features = np.subtract(features, mean)\n",
    "    #\n",
    "    #for i in range(120):\n",
    "    #    train_X[:, i] = train_X[:,i]/np.linalg.norm(train_X[:, i],)\n",
    "    #C = np.dot(train_X.T,train_X)\n",
    "    #W, V = np.linalg.eigh(C)\n",
    "    #projection = np.dot(train_X, np.array([V[:,-1],V[:,-2],V[:,-3],V[:,-4],V[:,-5]]).T)\n",
    "    ### End PCA\n",
    "    projection = np.dot(train_X, pca.components_.T)\n",
    "    X = projection\n",
    "    y = train_y\n",
    "    #X = new_features\n",
    "    #y = train_y\n",
    "    kernel = 'rbf'\n",
    "    #print y.shape\n",
    "    #print \"Number \" + str(i) + \" testing\"\n",
    "    \n",
    "    clf = SVC(kernel=kernel)\n",
    "    clf.fit(X, y)\n",
    "    #new_features_test = pca.transform(test_X)\n",
    "    projection_test = np.dot(test_X, pca.components_.T)\n",
    "    predict = (clf.predict(projection_test))\n",
    "    #predict = (clf.predict(new_features_test))\n",
    "    #print predict\n",
    "    test_y = test_y.reshape([-1])\n",
    "    #print test_y\n",
    "    acc += sum(np.array(predict)==np.array(test_y))/float(len(test_y))\n",
    "    print kernel + \" acc:\",sum(np.array(predict)==np.array(test_y))/float(len(test_y))\n",
    "\n",
    "print \"Average accuracy of SVC:\",acc/test_time * 100,\"%\"\n"
   ]
  },
  {
   "cell_type": "code",
   "execution_count": 7,
   "metadata": {},
   "outputs": [],
   "source": [
    "#print pca"
   ]
  },
  {
   "cell_type": "code",
   "execution_count": 8,
   "metadata": {},
   "outputs": [],
   "source": [
    "#print pca.components_.T"
   ]
  },
  {
   "cell_type": "code",
   "execution_count": 9,
   "metadata": {},
   "outputs": [],
   "source": [
    "#np.savetxt(\"pca_matrix.csv\", pca.components_.T, delimiter=\",\")"
   ]
  },
  {
   "cell_type": "code",
   "execution_count": 12,
   "metadata": {},
   "outputs": [
    {
     "name": "stdout",
     "output_type": "stream",
     "text": [
      "[ 4.]\n"
     ]
    },
    {
     "name": "stderr",
     "output_type": "stream",
     "text": [
      "/usr/local/lib/python2.7/site-packages/sklearn/utils/validation.py:395: DeprecationWarning: Passing 1d arrays as data is deprecated in 0.17 and will raise ValueError in 0.19. Reshape your data either using X.reshape(-1, 1) if your data has a single feature or X.reshape(1, -1) if it contains a single sample.\n",
      "  DeprecationWarning)\n"
     ]
    }
   ],
   "source": [
    "t_d = np.dot(test_X[2], pca.components_.T)\n",
    "print clf.predict(t_d)"
   ]
  },
  {
   "cell_type": "code",
   "execution_count": 13,
   "metadata": {},
   "outputs": [],
   "source": [
    "def prediction(clf, data, pca_metrix):\n",
    "    tmp = np.dot(data,pca_metrix)\n",
    "    if clf.predict(tmp) == 1.0:\n",
    "        print \"Air ball!!\"\n",
    "    elif clf.predict(tmp) == 2.0:\n",
    "        print \"Bank shot\"\n",
    "    elif clf.predict(tmp) == 3.0:\n",
    "        print \"Swish\"\n",
    "    elif clf.predict(tmp) == 4.0:\n",
    "        print \"Left brick\"\n",
    "    elif clf.predict(tmp) == 5.0:\n",
    "        print \"Right brick\""
   ]
  },
  {
   "cell_type": "code",
   "execution_count": 14,
   "metadata": {},
   "outputs": [
    {
     "name": "stdout",
     "output_type": "stream",
     "text": [
      "Left brick\n"
     ]
    },
    {
     "name": "stderr",
     "output_type": "stream",
     "text": [
      "/usr/local/lib/python2.7/site-packages/sklearn/utils/validation.py:395: DeprecationWarning: Passing 1d arrays as data is deprecated in 0.17 and will raise ValueError in 0.19. Reshape your data either using X.reshape(-1, 1) if your data has a single feature or X.reshape(1, -1) if it contains a single sample.\n",
      "  DeprecationWarning)\n",
      "/usr/local/lib/python2.7/site-packages/sklearn/utils/validation.py:395: DeprecationWarning: Passing 1d arrays as data is deprecated in 0.17 and will raise ValueError in 0.19. Reshape your data either using X.reshape(-1, 1) if your data has a single feature or X.reshape(1, -1) if it contains a single sample.\n",
      "  DeprecationWarning)\n",
      "/usr/local/lib/python2.7/site-packages/sklearn/utils/validation.py:395: DeprecationWarning: Passing 1d arrays as data is deprecated in 0.17 and will raise ValueError in 0.19. Reshape your data either using X.reshape(-1, 1) if your data has a single feature or X.reshape(1, -1) if it contains a single sample.\n",
      "  DeprecationWarning)\n",
      "/usr/local/lib/python2.7/site-packages/sklearn/utils/validation.py:395: DeprecationWarning: Passing 1d arrays as data is deprecated in 0.17 and will raise ValueError in 0.19. Reshape your data either using X.reshape(-1, 1) if your data has a single feature or X.reshape(1, -1) if it contains a single sample.\n",
      "  DeprecationWarning)\n"
     ]
    }
   ],
   "source": [
    "prediction(clf, test_X[0], pca.components_.T)"
   ]
  },
  {
   "cell_type": "code",
   "execution_count": 18,
   "metadata": {},
   "outputs": [],
   "source": [
    "#features = np.zeros((65,480))\n",
    "test = np.zeros((1,120))\n",
    "labels = np.zeros((1,1))\n",
    "\n",
    "#pca = PCA(n_components=2)\n",
    "#result = pca.fit()\n",
    "\n",
    "for num in range(1):\n",
    "    filepath = \"./Shooting_data_\"+ str(1) +\".txt\"\n",
    "    f_1 = open(filepath, \"r\")\n",
    "    count=0\n",
    "    \n",
    "    x_all = list()\n",
    "    y_all = list()\n",
    "    z_all = list()\n",
    "    gx_all = list()\n",
    "    gy_all = list()\n",
    "    gz_all = list()\n",
    "    \n",
    "    \n",
    "    for row in f_1:\n",
    "        #data = list();\n",
    "        handle = row.split(',')\n",
    "        count = count+1\n",
    "        try:\n",
    "            x = handle[1]\n",
    "            x_all.append(float(handle[0]))\n",
    "            y_all.append(float(handle[1]))\n",
    "            z_all.append(float(handle[2]))\n",
    "            gx_all.append(float(handle[3]))\n",
    "            gy_all.append(float(handle[4]))\n",
    "            gz_all.append(float(handle[5]))\n",
    "        except:\n",
    "            if(row==\"air ball middle\"):\n",
    "                labels[num-1]=1\n",
    "            elif(row==\"bank shot\"):\n",
    "                labels[num-1]=2\n",
    "            elif(row==\"swish\"):\n",
    "                labels[num-1]=3\n",
    "            elif(row==\"left brick\"):\n",
    "                labels[num-1]=4\n",
    "            elif(row==\"right brick\"):\n",
    "                labels[num-1]=5\n",
    "            else:\n",
    "                labels[num-1]=0\n",
    "        #test = handle[0]\n",
    "    try:\n",
    "        x_mean = sum(x_all)/len(x_all)\n",
    "        y_mean = sum(y_all)/len(y_all)\n",
    "        z_mean = sum(z_all)/len(z_all)\n",
    "    except:\n",
    "        print num\n",
    "        \n",
    "        \n",
    "    #print \"x: \", x_mean\n",
    "    #print \"y: \", y_mean\n",
    "    #print \"z: \", z_mean\n",
    "\n",
    "    raise_x = 0\n",
    "    raise_y = 0\n",
    "    raise_z = 0\n",
    "    raise_all = 0\n",
    "    flag_x = 0\n",
    "    flag_y = 0\n",
    "    flag_z = 0\n",
    "    data_start = 0\n",
    "    \n",
    "    #print num-1, \" Test\"\n",
    "    \n",
    "    for i in range(len(x_all)):\n",
    "        if(abs(x_all[i])>abs(x_mean)):\n",
    "            if not raise_x:\n",
    "                #print \" x: \", i, \"th item!!!\"\n",
    "                raise_x = 1\n",
    "        if(abs(y_all[i])>abs(y_mean)):\n",
    "            if not raise_y:\n",
    "                #print \" y: \", i, \"th item!!!\"\n",
    "                raise_y = 1\n",
    "        if(abs(z_all[i])>abs(z_mean)):\n",
    "            if not raise_z:\n",
    "                #print \" z: \", i, \"th item!!!\"\n",
    "                raise_z = 1\n",
    "        if(abs(x_all[i])>25):\n",
    "            flag_x = 1\n",
    "        if(abs(y_all[i])>25):\n",
    "            flag_y = 1\n",
    "        if(abs(z_all[i])>25):\n",
    "            flag_z = 1\n",
    "        if((flag_x+flag_y+flag_z>=2) and (not raise_all)):\n",
    "            #print \"All: \", i, \"th item\"\n",
    "            data_start = i\n",
    "            raise_all = 1\n",
    "        \n",
    "        #if(raise_x and raise_y and raise_z):\n",
    "            #break\n",
    "    \n",
    "    \n",
    "    index = 0;\n",
    "    \n",
    "    # Crop the Data\n",
    "    #j = num-1\n",
    "    #print num-1,\" : \",data_start\n",
    "    \n",
    "    for i in range(data_start, data_start+20):\n",
    "        index = i-data_start\n",
    "        #features[num-1][6*index+0] = x_all[i]\n",
    "        #features[num-1][6*index+1] = y_all[i]\n",
    "        #features[num-1][6*index+2] = z_all[i]\n",
    "        #features[num-1][6*index+3] = gx_all[i]\n",
    "        #features[num-1][6*index+4] = gy_all[i]\n",
    "        #features[num-1][6*index+5] = gz_all[i]\n",
    "        try:\n",
    "            test[num-1][6*index+0] = x_all[i]\n",
    "            test[num-1][6*index+1] = y_all[i]\n",
    "            test[num-1][6*index+2] = z_all[i]\n",
    "            test[num-1][6*index+3] = gx_all[i]\n",
    "            test[num-1][6*index+4] = gy_all[i]\n",
    "            test[num-1][6*index+5] = gz_all[i]\n",
    "            #features[num-1][3*index+0] = x_all[i]\n",
    "            #features[num-1][3*index+1] = y_all[i]\n",
    "            #features[num-1][3*index+2] = z_all[i]\n",
    "        except:\n",
    "            labels[num-1] = 0\n",
    "    \n",
    "    #temp = 0\n",
    "    #total = count-30\n",
    "    #print total\n",
    "\n",
    "    f_1.close()"
   ]
  },
  {
   "cell_type": "code",
   "execution_count": 23,
   "metadata": {},
   "outputs": [],
   "source": [
    "prediction(clf, test, pca.components_.T)"
   ]
  },
  {
   "cell_type": "code",
   "execution_count": null,
   "metadata": {},
   "outputs": [],
   "source": []
  }
 ],
 "metadata": {
  "kernelspec": {
   "display_name": "Python 2",
   "language": "python",
   "name": "python2"
  },
  "language_info": {
   "codemirror_mode": {
    "name": "ipython",
    "version": 2
   },
   "file_extension": ".py",
   "mimetype": "text/x-python",
   "name": "python",
   "nbconvert_exporter": "python",
   "pygments_lexer": "ipython2",
   "version": "2.7.13"
  }
 },
 "nbformat": 4,
 "nbformat_minor": 2
}
